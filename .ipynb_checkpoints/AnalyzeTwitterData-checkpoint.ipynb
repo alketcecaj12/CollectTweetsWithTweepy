{
 "cells": [
  {
   "cell_type": "code",
   "execution_count": 1,
   "metadata": {},
   "outputs": [],
   "source": [
    "import tweepy "
   ]
  },
  {
   "cell_type": "code",
   "execution_count": 2,
   "metadata": {},
   "outputs": [],
   "source": [
    "import pandas as pd \n",
    "import json \n",
    "import numpy as np "
   ]
  },
  {
   "cell_type": "code",
   "execution_count": 57,
   "metadata": {},
   "outputs": [],
   "source": [
    "tweet_json = pd.read_json(\"tweets_1586159303269.json\",  lines=True)"
   ]
  },
  {
   "cell_type": "code",
   "execution_count": 26,
   "metadata": {},
   "outputs": [
    {
     "data": {
      "text/plain": [
       "Index(['in_reply_to_status_id_str', 'in_reply_to_status_id', 'created_at',\n",
       "       'in_reply_to_user_id_str', 'source', 'retweet_count', 'retweeted',\n",
       "       'geo', 'filter_level', 'in_reply_to_screen_name', 'is_quote_status',\n",
       "       'id_str', 'in_reply_to_user_id', 'favorite_count', 'id', 'text',\n",
       "       'place', 'lang', 'quote_count', 'favorited', 'coordinates', 'truncated',\n",
       "       'timestamp_ms', 'reply_count', 'entities', 'display_text_range',\n",
       "       'contributors', 'user', 'extended_tweet', 'quoted_status',\n",
       "       'quoted_status_id', 'quoted_status_permalink', 'quoted_status_id_str',\n",
       "       'extended_entities', 'possibly_sensitive'],\n",
       "      dtype='object')"
      ]
     },
     "execution_count": 26,
     "metadata": {},
     "output_type": "execute_result"
    }
   ],
   "source": [
    "tweet_json.columns"
   ]
  },
  {
   "cell_type": "code",
   "execution_count": 49,
   "metadata": {},
   "outputs": [
    {
     "data": {
      "text/plain": [
       "0                              @LaElg Ussignur...🤦‍♂️😂😂\n",
       "1                                @impero19 Anche a te 😊\n",
       "2     @QuartieriSilvia @FontanaPres Silvia kei è con...\n",
       "3         Il risveglio dall'incubo.. Una vera rinascita\n",
       "4                                    @LaElg Un mito...😉\n",
       "5     @RepubblicaTv non ho parole. Anzi si parole,pa...\n",
       "6     @Pontifex_it Tranquillo papa\\nUn po di pazienz...\n",
       "7               @andreabell96 Buongiorno Andrea 😀 ☕ 🍀 😚\n",
       "8                 @OmodeoRosalba Buongiorno Rosalba 🙂☕🌻\n",
       "9     La cosa buona dopo ormai 20 giorni di #quarant...\n",
       "10    @Pontifex_it Poi ci dobbiamo organizzare per u...\n",
       "11                     @LaElg Ok, mi metto al lavoro...\n",
       "12    @BarabbaFake è un kilo e mezzo per qualche gio...\n",
       "13    Non guardate me.\\nSto a sbrocca’ pure io.\\n\\nF...\n",
       "14    Doğa sanki karanlik bir kabusumuz yokmuş gibi ...\n",
       "15    Comprendo che al minimo segnale positivo sia f...\n",
       "16               @Luca10ottobre Buon lunedì 🙋‍♀️Luca ☕🙂\n",
       "17            @fiocchibosi Buongiorno Roberto 😀 ☕ 🍀 😚 😘\n",
       "18    Leghisti!!! A pasqua andate tutti a messa abbr...\n",
       "19    @FrancoCNac Best film ever ! i can't wait for ...\n",
       "20    @sandrobah @fianco_ @Jill_Hardener Ho guardato...\n",
       "21    @IlConte50919IT @battistabd @RisatoNicola @Nic...\n",
       "22    @PistonAndBilly 😍 😍 😍 😍 😍 Fantastico e bello i...\n",
       "23    OLD WORK but I still like it.\\nSample of a ful...\n",
       "24     @criz_bi @barbara75ferre Segnato anche questo ✔️\n",
       "25                             @GloriaP81 Sei bellisima\n",
       "26      @SempliceCatia79 Ciao Catia un abbraccione 😘❣🤗🌻\n",
       "27         @Giusepp00583424 buongiorno Giuseppe 😀 ☕ 🍀 😚\n",
       "28           @PerditempoXenne buongiorno Joao 😀 ☕ 🍀 😚 😘\n",
       "29    Certo che ne bazzica di gente strana qui sopra...\n",
       "Name: text, dtype: object"
      ]
     },
     "execution_count": 49,
     "metadata": {},
     "output_type": "execute_result"
    }
   ],
   "source": [
    "tweet_json['text']"
   ]
  },
  {
   "cell_type": "code",
   "execution_count": 44,
   "metadata": {},
   "outputs": [
    {
     "name": "stdout",
     "output_type": "stream",
     "text": [
      "{'coordinates': [[[9.286537, 45.610195], [9.286537, 45.610195], [9.286537, 45.610195], [9.286537, 45.610195]]], 'type': 'Polygon'}\n",
      "{'coordinates': [[[9.074837, 45.418574], [9.074837, 45.451006], [9.1206, 45.451006], [9.1206, 45.418574]]], 'type': 'Polygon'}\n",
      "{'coordinates': [[[8.960882999999999, 45.504775], [8.960882999999999, 45.534189], [9.009832, 45.534189], [9.009832, 45.504775]]], 'type': 'Polygon'}\n",
      "{'coordinates': [[[9.506920000000001, 45.676406], [9.506920000000001, 45.694494], [9.546648, 45.694494], [9.546648, 45.676406]]], 'type': 'Polygon'}\n",
      "{'coordinates': [[[9.286537, 45.610195], [9.286537, 45.610195], [9.286537, 45.610195], [9.286537, 45.610195]]], 'type': 'Polygon'}\n",
      "{'coordinates': [[[9.040628, 45.386726], [9.040628, 45.535964], [9.278045, 45.535964], [9.278045, 45.386726]]], 'type': 'Polygon'}\n",
      "{'coordinates': [[[9.817006, 45.642464], [9.817006, 45.676691], [9.881666, 45.676691], [9.881666, 45.642464]]], 'type': 'Polygon'}\n",
      "{'coordinates': [[[9.074837, 45.418574], [9.074837, 45.451006], [9.1206, 45.451006], [9.1206, 45.418574]]], 'type': 'Polygon'}\n",
      "{'coordinates': [[[9.227141, 45.553369], [9.227141, 45.632305], [9.324445, 45.632305], [9.324445, 45.553369]]], 'type': 'Polygon'}\n",
      "{'coordinates': [[[9.061653, 45.66055], [9.061653, 45.685517], [9.100932, 45.685517], [9.100932, 45.66055]]], 'type': 'Polygon'}\n",
      "{'coordinates': [[[9.817006, 45.642464], [9.817006, 45.676691], [9.881666, 45.676691], [9.881666, 45.642464]]], 'type': 'Polygon'}\n",
      "{'coordinates': [[[9.286537, 45.610195], [9.286537, 45.610195], [9.286537, 45.610195], [9.286537, 45.610195]]], 'type': 'Polygon'}\n",
      "{'coordinates': [[[9.156954, 45.217512], [9.156954, 45.25642], [9.21693, 45.25642], [9.21693, 45.217512]]], 'type': 'Polygon'}\n",
      "{'coordinates': [[[9.040628, 45.386726], [9.040628, 45.535964], [9.278045, 45.535964], [9.278045, 45.386726]]], 'type': 'Polygon'}\n",
      "{'coordinates': [[[9.227141, 45.553369], [9.227141, 45.632305], [9.324445, 45.632305], [9.324445, 45.553369]]], 'type': 'Polygon'}\n",
      "{'coordinates': [[[9.040628, 45.386726], [9.040628, 45.535964], [9.278045, 45.535964], [9.278045, 45.386726]]], 'type': 'Polygon'}\n",
      "{'coordinates': [[[9.227141, 45.553369], [9.227141, 45.632305], [9.324445, 45.632305], [9.324445, 45.553369]]], 'type': 'Polygon'}\n",
      "{'coordinates': [[[9.074837, 45.418574], [9.074837, 45.451006], [9.1206, 45.451006], [9.1206, 45.418574]]], 'type': 'Polygon'}\n",
      "{'coordinates': [[[10.145821, 45.80805], [10.145821, 45.86609], [10.253671, 45.86609], [10.253671, 45.80805]]], 'type': 'Polygon'}\n",
      "{'coordinates': [[[9.040628, 45.386726], [9.040628, 45.535964], [9.278045, 45.535964], [9.278045, 45.386726]]], 'type': 'Polygon'}\n",
      "{'coordinates': [[[8.851625, 45.614268], [8.851625, 45.643397], [8.896682, 45.643397], [8.896682, 45.614268]]], 'type': 'Polygon'}\n",
      "{'coordinates': [[[9.040628, 45.386726], [9.040628, 45.535964], [9.278045, 45.535964], [9.278045, 45.386726]]], 'type': 'Polygon'}\n",
      "{'coordinates': [[[9.040628, 45.386726], [9.040628, 45.535964], [9.278045, 45.535964], [9.278045, 45.386726]]], 'type': 'Polygon'}\n",
      "{'coordinates': [[[9.31029, 45.774555], [9.31029, 45.808789], [9.374067, 45.808789], [9.374067, 45.774555]]], 'type': 'Polygon'}\n",
      "{'coordinates': [[[8.851625, 45.614268], [8.851625, 45.643397], [8.896682, 45.643397], [8.896682, 45.614268]]], 'type': 'Polygon'}\n",
      "{'coordinates': [[[9.024425, 45.40372], [9.024425, 45.44002], [9.089561, 45.44002], [9.089561, 45.40372]]], 'type': 'Polygon'}\n",
      "{'coordinates': [[[8.70612, 45.161537], [8.70612, 45.642663], [9.551592, 45.642663], [9.551592, 45.161537]]], 'type': 'Polygon'}\n",
      "{'coordinates': [[[9.074837, 45.418574], [9.074837, 45.451006], [9.1206, 45.451006], [9.1206, 45.418574]]], 'type': 'Polygon'}\n",
      "{'coordinates': [[[9.074837, 45.418574], [9.074837, 45.451006], [9.1206, 45.451006], [9.1206, 45.418574]]], 'type': 'Polygon'}\n",
      "{'coordinates': [[[9.040628, 45.386726], [9.040628, 45.535964], [9.278045, 45.535964], [9.278045, 45.386726]]], 'type': 'Polygon'}\n"
     ]
    }
   ],
   "source": [
    "for i in tweet_json['place']:\n",
    "    print(i['bounding_box'])"
   ]
  },
  {
   "cell_type": "code",
   "execution_count": 53,
   "metadata": {},
   "outputs": [
    {
     "data": {
      "text/html": [
       "<div style=\"width:100%;\"><div style=\"position:relative;width:100%;height:0;padding-bottom:60%;\"><iframe src=\"data:text/html;charset=utf-8;base64,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\" style=\"position:absolute;width:100%;height:100%;left:0;top:0;border:none !important;\" allowfullscreen webkitallowfullscreen mozallowfullscreen></iframe></div></div>"
      ],
      "text/plain": [
       "<folium.folium.Map at 0x1192b8c10>"
      ]
     },
     "execution_count": 53,
     "metadata": {},
     "output_type": "execute_result"
    }
   ],
   "source": [
    "import folium\n",
    "m = folium.Map(location=[45.808789, 9.374067])\n",
    "folium.Marker([45.386726, 9.040628 ], popup='<b>Certo che ne bazzica di gente strana qui sopra</b>').add_to(m)\n",
    "folium.Marker([45.614268, 8.851625], popup='<b>Il risveglio dall\\'incubo Una vera rinascita</b>').add_to(m)\n",
    "\n",
    "m"
   ]
  },
  {
   "cell_type": "code",
   "execution_count": null,
   "metadata": {},
   "outputs": [],
   "source": []
  },
  {
   "cell_type": "code",
   "execution_count": 30,
   "metadata": {},
   "outputs": [
    {
     "data": {
      "text/plain": [
       "0    2020-04-06 07:45:27+00:00\n",
       "1    2020-04-06 07:45:36+00:00\n",
       "2    2020-04-06 07:45:37+00:00\n",
       "3    2020-04-06 07:45:41+00:00\n",
       "4    2020-04-06 07:45:47+00:00\n",
       "5    2020-04-06 07:45:56+00:00\n",
       "6    2020-04-06 07:46:16+00:00\n",
       "7    2020-04-06 07:46:21+00:00\n",
       "8    2020-04-06 07:46:33+00:00\n",
       "9    2020-04-06 07:46:36+00:00\n",
       "10   2020-04-06 07:46:51+00:00\n",
       "11   2020-04-06 07:46:53+00:00\n",
       "12   2020-04-06 07:47:04+00:00\n",
       "13   2020-04-06 07:47:07+00:00\n",
       "14   2020-04-06 07:47:07+00:00\n",
       "15   2020-04-06 07:47:10+00:00\n",
       "16   2020-04-06 07:47:12+00:00\n",
       "17   2020-04-06 07:47:12+00:00\n",
       "18   2020-04-06 07:47:13+00:00\n",
       "19   2020-04-06 07:47:14+00:00\n",
       "20   2020-04-06 07:47:17+00:00\n",
       "21   2020-04-06 07:47:17+00:00\n",
       "22   2020-04-06 07:47:27+00:00\n",
       "23   2020-04-06 07:47:48+00:00\n",
       "24   2020-04-06 07:47:49+00:00\n",
       "25   2020-04-06 07:47:50+00:00\n",
       "26   2020-04-06 07:47:53+00:00\n",
       "27   2020-04-06 07:47:56+00:00\n",
       "28   2020-04-06 07:48:02+00:00\n",
       "29   2020-04-06 07:48:17+00:00\n",
       "Name: created_at, dtype: datetime64[ns, UTC]"
      ]
     },
     "execution_count": 30,
     "metadata": {},
     "output_type": "execute_result"
    }
   ],
   "source": [
    "tweet_json['created_at']"
   ]
  },
  {
   "cell_type": "code",
   "execution_count": 25,
   "metadata": {},
   "outputs": [
    {
     "name": "stdout",
     "output_type": "stream",
     "text": [
      "dict_keys(['utc_offset', 'friends_count', 'profile_image_url_https', 'listed_count', 'profile_background_image_url', 'default_profile_image', 'favourites_count', 'description', 'created_at', 'is_translator', 'profile_background_image_url_https', 'protected', 'screen_name', 'id_str', 'profile_link_color', 'translator_type', 'id', 'geo_enabled', 'profile_background_color', 'lang', 'profile_sidebar_border_color', 'profile_text_color', 'verified', 'profile_image_url', 'time_zone', 'url', 'contributors_enabled', 'profile_background_tile', 'profile_banner_url', 'statuses_count', 'follow_request_sent', 'followers_count', 'profile_use_background_image', 'default_profile', 'following', 'name', 'location', 'profile_sidebar_fill_color', 'notifications'])\n",
      "-------------------------\n",
      "dict_keys(['utc_offset', 'friends_count', 'profile_image_url_https', 'listed_count', 'profile_background_image_url', 'default_profile_image', 'favourites_count', 'description', 'created_at', 'is_translator', 'profile_background_image_url_https', 'protected', 'screen_name', 'id_str', 'profile_link_color', 'translator_type', 'id', 'geo_enabled', 'profile_background_color', 'lang', 'profile_sidebar_border_color', 'profile_text_color', 'verified', 'profile_image_url', 'time_zone', 'url', 'contributors_enabled', 'profile_background_tile', 'profile_banner_url', 'statuses_count', 'follow_request_sent', 'followers_count', 'profile_use_background_image', 'default_profile', 'following', 'name', 'location', 'profile_sidebar_fill_color', 'notifications'])\n",
      "-------------------------\n",
      "dict_keys(['utc_offset', 'friends_count', 'profile_image_url_https', 'listed_count', 'profile_background_image_url', 'default_profile_image', 'favourites_count', 'description', 'created_at', 'is_translator', 'profile_background_image_url_https', 'protected', 'screen_name', 'id_str', 'profile_link_color', 'translator_type', 'id', 'geo_enabled', 'profile_background_color', 'lang', 'profile_sidebar_border_color', 'profile_text_color', 'verified', 'profile_image_url', 'time_zone', 'url', 'contributors_enabled', 'profile_background_tile', 'statuses_count', 'follow_request_sent', 'followers_count', 'profile_use_background_image', 'default_profile', 'following', 'name', 'location', 'profile_sidebar_fill_color', 'notifications'])\n",
      "-------------------------\n",
      "dict_keys(['utc_offset', 'friends_count', 'profile_image_url_https', 'listed_count', 'profile_background_image_url', 'default_profile_image', 'favourites_count', 'description', 'created_at', 'is_translator', 'profile_background_image_url_https', 'protected', 'screen_name', 'id_str', 'profile_link_color', 'translator_type', 'id', 'geo_enabled', 'profile_background_color', 'lang', 'profile_sidebar_border_color', 'profile_text_color', 'verified', 'profile_image_url', 'time_zone', 'url', 'contributors_enabled', 'profile_background_tile', 'profile_banner_url', 'statuses_count', 'follow_request_sent', 'followers_count', 'profile_use_background_image', 'default_profile', 'following', 'name', 'location', 'profile_sidebar_fill_color', 'notifications'])\n",
      "-------------------------\n",
      "dict_keys(['utc_offset', 'friends_count', 'profile_image_url_https', 'listed_count', 'profile_background_image_url', 'default_profile_image', 'favourites_count', 'description', 'created_at', 'is_translator', 'profile_background_image_url_https', 'protected', 'screen_name', 'id_str', 'profile_link_color', 'translator_type', 'id', 'geo_enabled', 'profile_background_color', 'lang', 'profile_sidebar_border_color', 'profile_text_color', 'verified', 'profile_image_url', 'time_zone', 'url', 'contributors_enabled', 'profile_background_tile', 'profile_banner_url', 'statuses_count', 'follow_request_sent', 'followers_count', 'profile_use_background_image', 'default_profile', 'following', 'name', 'location', 'profile_sidebar_fill_color', 'notifications'])\n",
      "-------------------------\n",
      "dict_keys(['utc_offset', 'friends_count', 'profile_image_url_https', 'listed_count', 'profile_background_image_url', 'default_profile_image', 'favourites_count', 'description', 'created_at', 'is_translator', 'profile_background_image_url_https', 'protected', 'screen_name', 'id_str', 'profile_link_color', 'translator_type', 'id', 'geo_enabled', 'profile_background_color', 'lang', 'profile_sidebar_border_color', 'profile_text_color', 'verified', 'profile_image_url', 'time_zone', 'url', 'contributors_enabled', 'profile_background_tile', 'profile_banner_url', 'statuses_count', 'follow_request_sent', 'followers_count', 'profile_use_background_image', 'default_profile', 'following', 'name', 'location', 'profile_sidebar_fill_color', 'notifications'])\n",
      "-------------------------\n",
      "dict_keys(['utc_offset', 'friends_count', 'profile_image_url_https', 'listed_count', 'profile_background_image_url', 'default_profile_image', 'favourites_count', 'description', 'created_at', 'is_translator', 'profile_background_image_url_https', 'protected', 'screen_name', 'id_str', 'profile_link_color', 'translator_type', 'id', 'geo_enabled', 'profile_background_color', 'lang', 'profile_sidebar_border_color', 'profile_text_color', 'verified', 'profile_image_url', 'time_zone', 'url', 'contributors_enabled', 'profile_background_tile', 'statuses_count', 'follow_request_sent', 'followers_count', 'profile_use_background_image', 'default_profile', 'following', 'name', 'location', 'profile_sidebar_fill_color', 'notifications'])\n",
      "-------------------------\n",
      "dict_keys(['utc_offset', 'friends_count', 'profile_image_url_https', 'listed_count', 'profile_background_image_url', 'default_profile_image', 'favourites_count', 'description', 'created_at', 'is_translator', 'profile_background_image_url_https', 'protected', 'screen_name', 'id_str', 'profile_link_color', 'translator_type', 'id', 'geo_enabled', 'profile_background_color', 'lang', 'profile_sidebar_border_color', 'profile_text_color', 'verified', 'profile_image_url', 'time_zone', 'url', 'contributors_enabled', 'profile_background_tile', 'profile_banner_url', 'statuses_count', 'follow_request_sent', 'followers_count', 'profile_use_background_image', 'default_profile', 'following', 'name', 'location', 'profile_sidebar_fill_color', 'notifications'])\n",
      "-------------------------\n",
      "dict_keys(['utc_offset', 'friends_count', 'profile_image_url_https', 'listed_count', 'profile_background_image_url', 'default_profile_image', 'favourites_count', 'description', 'created_at', 'is_translator', 'profile_background_image_url_https', 'protected', 'screen_name', 'id_str', 'profile_link_color', 'translator_type', 'id', 'geo_enabled', 'profile_background_color', 'lang', 'profile_sidebar_border_color', 'profile_text_color', 'verified', 'profile_image_url', 'time_zone', 'url', 'contributors_enabled', 'profile_background_tile', 'profile_banner_url', 'statuses_count', 'follow_request_sent', 'followers_count', 'profile_use_background_image', 'default_profile', 'following', 'name', 'location', 'profile_sidebar_fill_color', 'notifications'])\n",
      "-------------------------\n",
      "dict_keys(['utc_offset', 'friends_count', 'profile_image_url_https', 'listed_count', 'profile_background_image_url', 'default_profile_image', 'favourites_count', 'description', 'created_at', 'is_translator', 'profile_background_image_url_https', 'protected', 'screen_name', 'id_str', 'profile_link_color', 'translator_type', 'id', 'geo_enabled', 'profile_background_color', 'lang', 'profile_sidebar_border_color', 'profile_text_color', 'verified', 'profile_image_url', 'time_zone', 'url', 'contributors_enabled', 'profile_background_tile', 'profile_banner_url', 'statuses_count', 'follow_request_sent', 'followers_count', 'profile_use_background_image', 'default_profile', 'following', 'name', 'location', 'profile_sidebar_fill_color', 'notifications'])\n",
      "-------------------------\n",
      "dict_keys(['utc_offset', 'friends_count', 'profile_image_url_https', 'listed_count', 'profile_background_image_url', 'default_profile_image', 'favourites_count', 'description', 'created_at', 'is_translator', 'profile_background_image_url_https', 'protected', 'screen_name', 'id_str', 'profile_link_color', 'translator_type', 'id', 'geo_enabled', 'profile_background_color', 'lang', 'profile_sidebar_border_color', 'profile_text_color', 'verified', 'profile_image_url', 'time_zone', 'url', 'contributors_enabled', 'profile_background_tile', 'statuses_count', 'follow_request_sent', 'followers_count', 'profile_use_background_image', 'default_profile', 'following', 'name', 'location', 'profile_sidebar_fill_color', 'notifications'])\n",
      "-------------------------\n",
      "dict_keys(['utc_offset', 'friends_count', 'profile_image_url_https', 'listed_count', 'profile_background_image_url', 'default_profile_image', 'favourites_count', 'description', 'created_at', 'is_translator', 'profile_background_image_url_https', 'protected', 'screen_name', 'id_str', 'profile_link_color', 'translator_type', 'id', 'geo_enabled', 'profile_background_color', 'lang', 'profile_sidebar_border_color', 'profile_text_color', 'verified', 'profile_image_url', 'time_zone', 'url', 'contributors_enabled', 'profile_background_tile', 'profile_banner_url', 'statuses_count', 'follow_request_sent', 'followers_count', 'profile_use_background_image', 'default_profile', 'following', 'name', 'location', 'profile_sidebar_fill_color', 'notifications'])\n",
      "-------------------------\n",
      "dict_keys(['utc_offset', 'friends_count', 'profile_image_url_https', 'listed_count', 'profile_background_image_url', 'default_profile_image', 'favourites_count', 'description', 'created_at', 'is_translator', 'profile_background_image_url_https', 'protected', 'screen_name', 'id_str', 'profile_link_color', 'translator_type', 'id', 'geo_enabled', 'profile_background_color', 'lang', 'profile_sidebar_border_color', 'profile_text_color', 'verified', 'profile_image_url', 'time_zone', 'url', 'contributors_enabled', 'profile_background_tile', 'profile_banner_url', 'statuses_count', 'follow_request_sent', 'followers_count', 'profile_use_background_image', 'default_profile', 'following', 'name', 'location', 'profile_sidebar_fill_color', 'notifications'])\n",
      "-------------------------\n",
      "dict_keys(['utc_offset', 'friends_count', 'profile_image_url_https', 'listed_count', 'profile_background_image_url', 'default_profile_image', 'favourites_count', 'description', 'created_at', 'is_translator', 'profile_background_image_url_https', 'protected', 'screen_name', 'id_str', 'profile_link_color', 'translator_type', 'id', 'geo_enabled', 'profile_background_color', 'lang', 'profile_sidebar_border_color', 'profile_text_color', 'verified', 'profile_image_url', 'time_zone', 'url', 'contributors_enabled', 'profile_background_tile', 'profile_banner_url', 'statuses_count', 'follow_request_sent', 'followers_count', 'profile_use_background_image', 'default_profile', 'following', 'name', 'location', 'profile_sidebar_fill_color', 'notifications'])\n",
      "-------------------------\n",
      "dict_keys(['utc_offset', 'friends_count', 'profile_image_url_https', 'listed_count', 'profile_background_image_url', 'default_profile_image', 'favourites_count', 'description', 'created_at', 'is_translator', 'profile_background_image_url_https', 'protected', 'screen_name', 'id_str', 'profile_link_color', 'translator_type', 'id', 'geo_enabled', 'profile_background_color', 'lang', 'profile_sidebar_border_color', 'profile_text_color', 'verified', 'profile_image_url', 'time_zone', 'url', 'contributors_enabled', 'profile_background_tile', 'profile_banner_url', 'statuses_count', 'follow_request_sent', 'followers_count', 'profile_use_background_image', 'default_profile', 'following', 'name', 'location', 'profile_sidebar_fill_color', 'notifications'])\n",
      "-------------------------\n",
      "dict_keys(['utc_offset', 'friends_count', 'profile_image_url_https', 'listed_count', 'profile_background_image_url', 'default_profile_image', 'favourites_count', 'description', 'created_at', 'is_translator', 'profile_background_image_url_https', 'protected', 'screen_name', 'id_str', 'profile_link_color', 'translator_type', 'id', 'geo_enabled', 'profile_background_color', 'lang', 'profile_sidebar_border_color', 'profile_text_color', 'verified', 'profile_image_url', 'time_zone', 'url', 'contributors_enabled', 'profile_background_tile', 'profile_banner_url', 'statuses_count', 'follow_request_sent', 'followers_count', 'profile_use_background_image', 'default_profile', 'following', 'name', 'location', 'profile_sidebar_fill_color', 'notifications'])\n",
      "-------------------------\n",
      "dict_keys(['utc_offset', 'friends_count', 'profile_image_url_https', 'listed_count', 'profile_background_image_url', 'default_profile_image', 'favourites_count', 'description', 'created_at', 'is_translator', 'profile_background_image_url_https', 'protected', 'screen_name', 'id_str', 'profile_link_color', 'translator_type', 'id', 'geo_enabled', 'profile_background_color', 'lang', 'profile_sidebar_border_color', 'profile_text_color', 'verified', 'profile_image_url', 'time_zone', 'url', 'contributors_enabled', 'profile_background_tile', 'profile_banner_url', 'statuses_count', 'follow_request_sent', 'followers_count', 'profile_use_background_image', 'default_profile', 'following', 'name', 'location', 'profile_sidebar_fill_color', 'notifications'])\n",
      "-------------------------\n",
      "dict_keys(['utc_offset', 'friends_count', 'profile_image_url_https', 'listed_count', 'profile_background_image_url', 'default_profile_image', 'favourites_count', 'description', 'created_at', 'is_translator', 'profile_background_image_url_https', 'protected', 'screen_name', 'id_str', 'profile_link_color', 'translator_type', 'id', 'geo_enabled', 'profile_background_color', 'lang', 'profile_sidebar_border_color', 'profile_text_color', 'verified', 'profile_image_url', 'time_zone', 'url', 'contributors_enabled', 'profile_background_tile', 'profile_banner_url', 'statuses_count', 'follow_request_sent', 'followers_count', 'profile_use_background_image', 'default_profile', 'following', 'name', 'location', 'profile_sidebar_fill_color', 'notifications'])\n",
      "-------------------------\n",
      "dict_keys(['utc_offset', 'friends_count', 'profile_image_url_https', 'listed_count', 'profile_background_image_url', 'default_profile_image', 'favourites_count', 'description', 'created_at', 'is_translator', 'profile_background_image_url_https', 'protected', 'screen_name', 'id_str', 'profile_link_color', 'translator_type', 'id', 'geo_enabled', 'profile_background_color', 'lang', 'profile_sidebar_border_color', 'profile_text_color', 'verified', 'profile_image_url', 'time_zone', 'url', 'contributors_enabled', 'profile_background_tile', 'statuses_count', 'follow_request_sent', 'followers_count', 'profile_use_background_image', 'default_profile', 'following', 'name', 'location', 'profile_sidebar_fill_color', 'notifications'])\n",
      "-------------------------\n",
      "dict_keys(['utc_offset', 'friends_count', 'profile_image_url_https', 'listed_count', 'profile_background_image_url', 'default_profile_image', 'favourites_count', 'description', 'created_at', 'is_translator', 'profile_background_image_url_https', 'protected', 'screen_name', 'id_str', 'profile_link_color', 'translator_type', 'id', 'geo_enabled', 'profile_background_color', 'lang', 'profile_sidebar_border_color', 'profile_text_color', 'verified', 'profile_image_url', 'time_zone', 'url', 'contributors_enabled', 'profile_background_tile', 'profile_banner_url', 'statuses_count', 'follow_request_sent', 'followers_count', 'profile_use_background_image', 'default_profile', 'following', 'name', 'location', 'profile_sidebar_fill_color', 'notifications'])\n",
      "-------------------------\n",
      "dict_keys(['utc_offset', 'friends_count', 'profile_image_url_https', 'listed_count', 'profile_background_image_url', 'default_profile_image', 'favourites_count', 'description', 'created_at', 'is_translator', 'profile_background_image_url_https', 'protected', 'screen_name', 'id_str', 'profile_link_color', 'translator_type', 'id', 'geo_enabled', 'profile_background_color', 'lang', 'profile_sidebar_border_color', 'profile_text_color', 'verified', 'profile_image_url', 'time_zone', 'url', 'contributors_enabled', 'profile_background_tile', 'statuses_count', 'follow_request_sent', 'followers_count', 'profile_use_background_image', 'default_profile', 'following', 'name', 'location', 'profile_sidebar_fill_color', 'notifications'])\n",
      "-------------------------\n",
      "dict_keys(['utc_offset', 'friends_count', 'profile_image_url_https', 'listed_count', 'profile_background_image_url', 'default_profile_image', 'favourites_count', 'description', 'created_at', 'is_translator', 'profile_background_image_url_https', 'protected', 'screen_name', 'id_str', 'profile_link_color', 'translator_type', 'id', 'geo_enabled', 'profile_background_color', 'lang', 'profile_sidebar_border_color', 'profile_text_color', 'verified', 'profile_image_url', 'time_zone', 'url', 'contributors_enabled', 'profile_background_tile', 'profile_banner_url', 'statuses_count', 'follow_request_sent', 'followers_count', 'profile_use_background_image', 'default_profile', 'following', 'name', 'location', 'profile_sidebar_fill_color', 'notifications'])\n",
      "-------------------------\n",
      "dict_keys(['utc_offset', 'friends_count', 'profile_image_url_https', 'listed_count', 'profile_background_image_url', 'default_profile_image', 'favourites_count', 'description', 'created_at', 'is_translator', 'profile_background_image_url_https', 'protected', 'screen_name', 'id_str', 'profile_link_color', 'translator_type', 'id', 'geo_enabled', 'profile_background_color', 'lang', 'profile_sidebar_border_color', 'profile_text_color', 'verified', 'profile_image_url', 'time_zone', 'url', 'contributors_enabled', 'profile_background_tile', 'profile_banner_url', 'statuses_count', 'follow_request_sent', 'followers_count', 'profile_use_background_image', 'default_profile', 'following', 'name', 'location', 'profile_sidebar_fill_color', 'notifications'])\n",
      "-------------------------\n",
      "dict_keys(['utc_offset', 'friends_count', 'profile_image_url_https', 'listed_count', 'profile_background_image_url', 'default_profile_image', 'favourites_count', 'description', 'created_at', 'is_translator', 'profile_background_image_url_https', 'protected', 'screen_name', 'id_str', 'profile_link_color', 'translator_type', 'id', 'geo_enabled', 'profile_background_color', 'lang', 'profile_sidebar_border_color', 'profile_text_color', 'verified', 'profile_image_url', 'time_zone', 'url', 'contributors_enabled', 'profile_background_tile', 'statuses_count', 'follow_request_sent', 'followers_count', 'profile_use_background_image', 'default_profile', 'following', 'name', 'location', 'profile_sidebar_fill_color', 'notifications'])\n",
      "-------------------------\n",
      "dict_keys(['utc_offset', 'friends_count', 'profile_image_url_https', 'listed_count', 'profile_background_image_url', 'default_profile_image', 'favourites_count', 'description', 'created_at', 'is_translator', 'profile_background_image_url_https', 'protected', 'screen_name', 'id_str', 'profile_link_color', 'translator_type', 'id', 'geo_enabled', 'profile_background_color', 'lang', 'profile_sidebar_border_color', 'profile_text_color', 'verified', 'profile_image_url', 'time_zone', 'url', 'contributors_enabled', 'profile_background_tile', 'statuses_count', 'follow_request_sent', 'followers_count', 'profile_use_background_image', 'default_profile', 'following', 'name', 'location', 'profile_sidebar_fill_color', 'notifications'])\n",
      "-------------------------\n",
      "dict_keys(['utc_offset', 'friends_count', 'profile_image_url_https', 'listed_count', 'profile_background_image_url', 'default_profile_image', 'favourites_count', 'description', 'created_at', 'is_translator', 'profile_background_image_url_https', 'protected', 'screen_name', 'id_str', 'profile_link_color', 'translator_type', 'id', 'geo_enabled', 'profile_background_color', 'lang', 'profile_sidebar_border_color', 'profile_text_color', 'verified', 'profile_image_url', 'time_zone', 'url', 'contributors_enabled', 'profile_background_tile', 'profile_banner_url', 'statuses_count', 'follow_request_sent', 'followers_count', 'profile_use_background_image', 'default_profile', 'following', 'name', 'location', 'profile_sidebar_fill_color', 'notifications'])\n",
      "-------------------------\n",
      "dict_keys(['utc_offset', 'friends_count', 'profile_image_url_https', 'listed_count', 'profile_background_image_url', 'default_profile_image', 'favourites_count', 'description', 'created_at', 'is_translator', 'profile_background_image_url_https', 'protected', 'screen_name', 'id_str', 'profile_link_color', 'translator_type', 'id', 'geo_enabled', 'profile_background_color', 'lang', 'profile_sidebar_border_color', 'profile_text_color', 'verified', 'profile_image_url', 'time_zone', 'url', 'contributors_enabled', 'profile_background_tile', 'profile_banner_url', 'statuses_count', 'follow_request_sent', 'followers_count', 'profile_use_background_image', 'default_profile', 'following', 'name', 'location', 'profile_sidebar_fill_color', 'notifications'])\n",
      "-------------------------\n",
      "dict_keys(['utc_offset', 'friends_count', 'profile_image_url_https', 'listed_count', 'profile_background_image_url', 'default_profile_image', 'favourites_count', 'description', 'created_at', 'is_translator', 'profile_background_image_url_https', 'protected', 'screen_name', 'id_str', 'profile_link_color', 'translator_type', 'id', 'geo_enabled', 'profile_background_color', 'lang', 'profile_sidebar_border_color', 'profile_text_color', 'verified', 'profile_image_url', 'time_zone', 'url', 'contributors_enabled', 'profile_background_tile', 'profile_banner_url', 'statuses_count', 'follow_request_sent', 'followers_count', 'profile_use_background_image', 'default_profile', 'following', 'name', 'location', 'profile_sidebar_fill_color', 'notifications'])\n",
      "-------------------------\n",
      "dict_keys(['utc_offset', 'friends_count', 'profile_image_url_https', 'listed_count', 'profile_background_image_url', 'default_profile_image', 'favourites_count', 'description', 'created_at', 'is_translator', 'profile_background_image_url_https', 'protected', 'screen_name', 'id_str', 'profile_link_color', 'translator_type', 'id', 'geo_enabled', 'profile_background_color', 'lang', 'profile_sidebar_border_color', 'profile_text_color', 'verified', 'profile_image_url', 'time_zone', 'url', 'contributors_enabled', 'profile_background_tile', 'profile_banner_url', 'statuses_count', 'follow_request_sent', 'followers_count', 'profile_use_background_image', 'default_profile', 'following', 'name', 'location', 'profile_sidebar_fill_color', 'notifications'])\n",
      "-------------------------\n",
      "dict_keys(['utc_offset', 'friends_count', 'profile_image_url_https', 'listed_count', 'profile_background_image_url', 'default_profile_image', 'favourites_count', 'description', 'created_at', 'is_translator', 'profile_background_image_url_https', 'protected', 'screen_name', 'id_str', 'profile_link_color', 'translator_type', 'id', 'geo_enabled', 'profile_background_color', 'lang', 'profile_sidebar_border_color', 'profile_text_color', 'verified', 'profile_image_url', 'time_zone', 'url', 'contributors_enabled', 'profile_background_tile', 'profile_banner_url', 'statuses_count', 'follow_request_sent', 'followers_count', 'profile_use_background_image', 'default_profile', 'following', 'name', 'location', 'profile_sidebar_fill_color', 'notifications'])\n",
      "-------------------------\n"
     ]
    }
   ],
   "source": [
    "user = tweet_json['user']\n",
    "for i in user:\n",
    "    #print(i)\n",
    "    print(i.keys())\n",
    "    print('-------------------------')"
   ]
  },
  {
   "cell_type": "code",
   "execution_count": 39,
   "metadata": {},
   "outputs": [
    {
     "name": "stdout",
     "output_type": "stream",
     "text": [
      "Mon Dec 22 23:19:43 +0000 2014\n",
      "Monza e della Brianza, Lombard\n",
      "Tue Mar 04 10:19:01 +0000 2014\n",
      "Corsico 🔄 Milano \n",
      "Fri Aug 24 13:51:10 +0000 2018\n",
      "Lombardia, Italia\n",
      "Sun Nov 22 15:58:14 +0000 2015\n",
      "Bergamo, Lombardia\n",
      "Mon Dec 22 23:19:43 +0000 2014\n",
      "Monza e della Brianza, Lombard\n",
      "Mon Jan 21 17:59:08 +0000 2013\n",
      "Milano, Lombardia\n",
      "Wed Mar 11 13:33:02 +0000 2020\n",
      "None\n",
      "Tue Mar 04 10:19:01 +0000 2014\n",
      "Corsico 🔄 Milano \n",
      "Mon Sep 17 19:04:50 +0000 2018\n",
      "None\n",
      "Wed Jan 25 11:57:21 +0000 2012\n",
      "Monza e della Brianza, Lombardia\n",
      "Wed Mar 11 13:33:02 +0000 2020\n",
      "None\n",
      "Mon Dec 22 23:19:43 +0000 2014\n",
      "Monza e della Brianza, Lombard\n",
      "Wed Dec 05 11:00:34 +0000 2012\n",
      "Pavia, Lombardia\n",
      "Tue Jul 28 14:03:07 +0000 2009\n",
      "Milan, Italy\n",
      "Mon Aug 10 18:16:13 +0000 2009\n",
      "istanbul\n",
      "Wed Sep 04 14:23:00 +0000 2019\n",
      "None\n",
      "Mon Sep 17 19:04:50 +0000 2018\n",
      "None\n",
      "Tue Mar 04 10:19:01 +0000 2014\n",
      "Corsico 🔄 Milano \n",
      "Mon Dec 31 16:10:23 +0000 2012\n",
      "None\n",
      "Tue Oct 09 21:14:58 +0000 2012\n",
      "Italy\n",
      "Sun Feb 19 15:22:58 +0000 2012\n",
      "None\n",
      "Tue Feb 23 13:50:56 +0000 2016\n",
      "Milano\n",
      "Thu Jun 20 17:05:34 +0000 2019\n",
      "Milano, Lombardia\n",
      "Tue Oct 04 10:02:32 +0000 2011\n",
      "None\n",
      "Sun Feb 19 15:22:58 +0000 2012\n",
      "None\n",
      "Thu Mar 19 11:39:03 +0000 2020\n",
      "None\n",
      "Tue Aug 28 18:56:51 +0000 2012\n",
      "Milano, Lombardia\n",
      "Tue Mar 04 10:19:01 +0000 2014\n",
      "Corsico 🔄 Milano \n",
      "Tue Mar 04 10:19:01 +0000 2014\n",
      "Corsico 🔄 Milano \n",
      "Wed Jul 04 12:46:55 +0000 2012\n",
      "Milano\n"
     ]
    }
   ],
   "source": [
    "for i in tweet_json['user']:\n",
    "    print(i['created_at'])\n",
    "    print(i['location'])"
   ]
  },
  {
   "cell_type": "code",
   "execution_count": 56,
   "metadata": {},
   "outputs": [
    {
     "ename": "AttributeError",
     "evalue": "'str' object has no attribute 'values'",
     "output_type": "error",
     "traceback": [
      "\u001b[0;31m---------------------------------------------------------------------------\u001b[0m",
      "\u001b[0;31mAttributeError\u001b[0m                            Traceback (most recent call last)",
      "\u001b[0;32m<ipython-input-56-f076996c1c4d>\u001b[0m in \u001b[0;36m<module>\u001b[0;34m\u001b[0m\n\u001b[1;32m      1\u001b[0m \u001b[0;32mfrom\u001b[0m \u001b[0mpandas\u001b[0m\u001b[0;34m.\u001b[0m\u001b[0mio\u001b[0m\u001b[0;34m.\u001b[0m\u001b[0mjson\u001b[0m \u001b[0;32mimport\u001b[0m \u001b[0mjson_normalize\u001b[0m\u001b[0;34m\u001b[0m\u001b[0;34m\u001b[0m\u001b[0m\n\u001b[0;32m----> 2\u001b[0;31m \u001b[0mdata_tweet_json\u001b[0m \u001b[0;34m=\u001b[0m \u001b[0mjson_normalize\u001b[0m\u001b[0;34m(\u001b[0m\u001b[0mtweet_json\u001b[0m\u001b[0;34m)\u001b[0m\u001b[0;34m\u001b[0m\u001b[0;34m\u001b[0m\u001b[0m\n\u001b[0m\u001b[1;32m      3\u001b[0m \u001b[0mdata_tweet_json\u001b[0m\u001b[0;34m\u001b[0m\u001b[0;34m\u001b[0m\u001b[0m\n",
      "\u001b[0;32m~/anaconda3/lib/python3.7/site-packages/pandas/io/json/_normalize.py\u001b[0m in \u001b[0;36mjson_normalize\u001b[0;34m(data, record_path, meta, meta_prefix, record_prefix, errors, sep, max_level)\u001b[0m\n\u001b[1;32m    256\u001b[0m \u001b[0;34m\u001b[0m\u001b[0m\n\u001b[1;32m    257\u001b[0m     \u001b[0;32mif\u001b[0m \u001b[0mrecord_path\u001b[0m \u001b[0;32mis\u001b[0m \u001b[0;32mNone\u001b[0m\u001b[0;34m:\u001b[0m\u001b[0;34m\u001b[0m\u001b[0;34m\u001b[0m\u001b[0m\n\u001b[0;32m--> 258\u001b[0;31m         \u001b[0;32mif\u001b[0m \u001b[0many\u001b[0m\u001b[0;34m(\u001b[0m\u001b[0;34m[\u001b[0m\u001b[0misinstance\u001b[0m\u001b[0;34m(\u001b[0m\u001b[0mx\u001b[0m\u001b[0;34m,\u001b[0m \u001b[0mdict\u001b[0m\u001b[0;34m)\u001b[0m \u001b[0;32mfor\u001b[0m \u001b[0mx\u001b[0m \u001b[0;32min\u001b[0m \u001b[0my\u001b[0m\u001b[0;34m.\u001b[0m\u001b[0mvalues\u001b[0m\u001b[0;34m(\u001b[0m\u001b[0;34m)\u001b[0m\u001b[0;34m]\u001b[0m \u001b[0;32mfor\u001b[0m \u001b[0my\u001b[0m \u001b[0;32min\u001b[0m \u001b[0mdata\u001b[0m\u001b[0;34m)\u001b[0m\u001b[0;34m:\u001b[0m\u001b[0;34m\u001b[0m\u001b[0;34m\u001b[0m\u001b[0m\n\u001b[0m\u001b[1;32m    259\u001b[0m             \u001b[0;31m# naive normalization, this is idempotent for flat records\u001b[0m\u001b[0;34m\u001b[0m\u001b[0;34m\u001b[0m\u001b[0;34m\u001b[0m\u001b[0m\n\u001b[1;32m    260\u001b[0m             \u001b[0;31m# and potentially will inflate the data considerably for\u001b[0m\u001b[0;34m\u001b[0m\u001b[0;34m\u001b[0m\u001b[0;34m\u001b[0m\u001b[0m\n",
      "\u001b[0;32m~/anaconda3/lib/python3.7/site-packages/pandas/io/json/_normalize.py\u001b[0m in \u001b[0;36m<genexpr>\u001b[0;34m(.0)\u001b[0m\n\u001b[1;32m    256\u001b[0m \u001b[0;34m\u001b[0m\u001b[0m\n\u001b[1;32m    257\u001b[0m     \u001b[0;32mif\u001b[0m \u001b[0mrecord_path\u001b[0m \u001b[0;32mis\u001b[0m \u001b[0;32mNone\u001b[0m\u001b[0;34m:\u001b[0m\u001b[0;34m\u001b[0m\u001b[0;34m\u001b[0m\u001b[0m\n\u001b[0;32m--> 258\u001b[0;31m         \u001b[0;32mif\u001b[0m \u001b[0many\u001b[0m\u001b[0;34m(\u001b[0m\u001b[0;34m[\u001b[0m\u001b[0misinstance\u001b[0m\u001b[0;34m(\u001b[0m\u001b[0mx\u001b[0m\u001b[0;34m,\u001b[0m \u001b[0mdict\u001b[0m\u001b[0;34m)\u001b[0m \u001b[0;32mfor\u001b[0m \u001b[0mx\u001b[0m \u001b[0;32min\u001b[0m \u001b[0my\u001b[0m\u001b[0;34m.\u001b[0m\u001b[0mvalues\u001b[0m\u001b[0;34m(\u001b[0m\u001b[0;34m)\u001b[0m\u001b[0;34m]\u001b[0m \u001b[0;32mfor\u001b[0m \u001b[0my\u001b[0m \u001b[0;32min\u001b[0m \u001b[0mdata\u001b[0m\u001b[0;34m)\u001b[0m\u001b[0;34m:\u001b[0m\u001b[0;34m\u001b[0m\u001b[0;34m\u001b[0m\u001b[0m\n\u001b[0m\u001b[1;32m    259\u001b[0m             \u001b[0;31m# naive normalization, this is idempotent for flat records\u001b[0m\u001b[0;34m\u001b[0m\u001b[0;34m\u001b[0m\u001b[0;34m\u001b[0m\u001b[0m\n\u001b[1;32m    260\u001b[0m             \u001b[0;31m# and potentially will inflate the data considerably for\u001b[0m\u001b[0;34m\u001b[0m\u001b[0;34m\u001b[0m\u001b[0;34m\u001b[0m\u001b[0m\n",
      "\u001b[0;31mAttributeError\u001b[0m: 'str' object has no attribute 'values'"
     ]
    }
   ],
   "source": [
    "from pandas.io.json import json_normalize\n",
    "data_tweet_json = json_normalize(tweet_json)\n",
    "data_tweet_json\n"
   ]
  },
  {
   "cell_type": "code",
   "execution_count": 59,
   "metadata": {},
   "outputs": [
    {
     "name": "stdout",
     "output_type": "stream",
     "text": [
      "1587572056\n"
     ]
    }
   ],
   "source": [
    "import calendar;\n",
    "import time;\n",
    "ts = calendar.timegm(time.gmtime())\n",
    "print(ts)"
   ]
  },
  {
   "cell_type": "code",
   "execution_count": null,
   "metadata": {},
   "outputs": [],
   "source": []
  },
  {
   "cell_type": "code",
   "execution_count": null,
   "metadata": {},
   "outputs": [],
   "source": []
  }
 ],
 "metadata": {
  "kernelspec": {
   "display_name": "Python 3",
   "language": "python",
   "name": "python3"
  },
  "language_info": {
   "codemirror_mode": {
    "name": "ipython",
    "version": 3
   },
   "file_extension": ".py",
   "mimetype": "text/x-python",
   "name": "python",
   "nbconvert_exporter": "python",
   "pygments_lexer": "ipython3",
   "version": "3.7.4"
  }
 },
 "nbformat": 4,
 "nbformat_minor": 2
}
