{
 "cells": [
  {
   "cell_type": "code",
   "execution_count": null,
   "metadata": {},
   "outputs": [
    {
     "name": "stdout",
     "output_type": "stream",
     "text": [
      "You're connected to the streaming server.\n"
     ]
    }
   ],
   "source": [
    "import tweepy\n",
    "import json\n",
    "from pymongo import MongoClient\n",
    "\n",
    "import calendar;\n",
    "import time;\n",
    "\n",
    "\n",
    "class StreamListener(tweepy.StreamListener):\n",
    "    \"\"\"tweepy.StreamListener is a class provided by tweepy used to access\n",
    "    the Twitter Streaming API to collect tweets in real-time.\n",
    "    \"\"\"\n",
    "    \n",
    "    def on_connect(self):\n",
    "        \"\"\"Called when the connection is made\"\"\"\n",
    "        print(\"You're connected to the streaming server.\")\n",
    "\n",
    "    def on_error(self, status_code):\n",
    "        \"\"\"This is called when an error occurs\"\"\"\n",
    "        print('Error: ' + repr(status_code))\n",
    "        return False\n",
    "\n",
    "    def on_data(self, data):\n",
    "        \"\"\"This will be called each time we receive stream data\"\"\"\n",
    "        client = MongoClient()\n",
    "\n",
    "        # I stored the tweet data in a database called 'training_tweets' in MongoDB, if \n",
    "        # 'training_tweets' does not exist it will be created for you.\n",
    "        db = client.training_tweets\n",
    "\n",
    "        # Decode JSON\n",
    "        datajson = json.loads(data)\n",
    "        \n",
    "        \n",
    "        # I'm only storing tweets in English. I stored the data for these tweets in a collection \n",
    "        # called 'training_tweets_collection' of the 'training_tweets' database. If \n",
    "        # 'training_tweets_collection' does not exist it will be created for you. \n",
    "        if \"lang\" in datajson and datajson[\"lang\"] == \"it\":\n",
    "            db.training_tweets_collection.insert_one(datajson)\n",
    "\n",
    "\n",
    "if __name__ == \"__main__\":\n",
    "\n",
    "    # These are provided to you through the Twitter API after you create a account\n",
    "    consumer_key = 'tKD3MixQODrf0Ln5wl3Pnoa5F'\n",
    "    consumer_secret = 'ktNNGPINwtbNScogc1XGJbJkpper0M1pGqnDKMroNedXsmF9kJ'\n",
    "\n",
    "    access_token = '176015580-CfmunpWnk0byn02Pyba3UlLBRDeSfX2kDnQCNb8r'\n",
    "    access_token_secret = '14UtkzMAWRYCpmPWmLwdLTEI6TVoe4LzKoGv7LRgexsTf'\n",
    "\n",
    "    auth1 = tweepy.OAuthHandler(consumer_key, consumer_secret)\n",
    "    auth1.set_access_token(access_token, access_token_secret)\n",
    "\n",
    "    # LOCATIONS are the longitude, latitude coordinate corners for a box that restricts the \n",
    "    # geographic area from which you will stream tweets. The first two define the southwest\n",
    "    # corner of the box and the second two define the northeast corner of the box. \n",
    "    LOCATIONS = [ 8.9085,  45.1401, 10.6413, 45.8268,        # Lombardia\n",
    "                 10.1133,  44.3222, 12.3402, 44.9177,        # Emiliaromangna\n",
    "                  7.1781,  44.5003,  8.4782, 45.5954,        # Piemonte\n",
    "                 10.8681,  45.1097, 12.9737, 45.7445]        # Veneto\n",
    "\n",
    "    stream_listener = StreamListener(api=tweepy.API(wait_on_rate_limit=True))\n",
    "    stream = tweepy.Stream(auth=auth1, listener=stream_listener)\n",
    "    data = stream.filter(locations=LOCATIONS)\n",
    "    "
   ]
  },
  {
   "cell_type": "code",
   "execution_count": null,
   "metadata": {},
   "outputs": [],
   "source": []
  },
  {
   "cell_type": "code",
   "execution_count": null,
   "metadata": {},
   "outputs": [],
   "source": []
  },
  {
   "cell_type": "code",
   "execution_count": null,
   "metadata": {},
   "outputs": [],
   "source": []
  },
  {
   "cell_type": "code",
   "execution_count": null,
   "metadata": {},
   "outputs": [],
   "source": []
  },
  {
   "cell_type": "code",
   "execution_count": null,
   "metadata": {},
   "outputs": [],
   "source": []
  },
  {
   "cell_type": "code",
   "execution_count": null,
   "metadata": {},
   "outputs": [],
   "source": []
  },
  {
   "cell_type": "code",
   "execution_count": null,
   "metadata": {},
   "outputs": [],
   "source": []
  },
  {
   "cell_type": "code",
   "execution_count": null,
   "metadata": {},
   "outputs": [],
   "source": []
  }
 ],
 "metadata": {
  "kernelspec": {
   "display_name": "Python 3",
   "language": "python",
   "name": "python3"
  },
  "language_info": {
   "codemirror_mode": {
    "name": "ipython",
    "version": 3
   },
   "file_extension": ".py",
   "mimetype": "text/x-python",
   "name": "python",
   "nbconvert_exporter": "python",
   "pygments_lexer": "ipython3",
   "version": "3.7.4"
  }
 },
 "nbformat": 4,
 "nbformat_minor": 2
}
